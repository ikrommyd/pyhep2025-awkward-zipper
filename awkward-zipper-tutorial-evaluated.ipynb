{
 "cells": [
  {
   "cell_type": "code",
   "execution_count": 1,
   "metadata": {
    "id": "-7K2A3Hm3S21"
   },
   "outputs": [],
   "source": [
    "import uproot\n",
    "import awkward"
   ]
  },
  {
   "cell_type": "markdown",
   "metadata": {
    "id": "1lhg9AWkKcP-"
   },
   "source": [
    "Let's load the example data in [NanoAOD](https://twiki.cern.ch/twiki/bin/view/CMSPublic/WorkBookNanoAOD) format:"
   ]
  },
  {
   "cell_type": "code",
   "execution_count": 2,
   "metadata": {
    "id": "oK97AsG5vW8T"
   },
   "outputs": [],
   "source": [
    "# Create a TTree from root\n",
    "tree = uproot.open(\"data/nano_dy.root\")[\"Events\"]\n",
    "# TTree -> awkward.Array[awkward.Record[str, awkward.Array]]\n",
    "array = tree.arrays(ak_add_doc=True)"
   ]
  },
  {
   "cell_type": "code",
   "execution_count": 3,
   "metadata": {
    "colab": {
     "base_uri": "https://localhost:8080/"
    },
    "id": "rS_ZuXVFx65l",
    "outputId": "73caa676-1970-4b05-cd00-b184186c9738"
   },
   "outputs": [
    {
     "name": "stdout",
     "output_type": "stream",
     "text": [
      "[{run: 1, luminosityBlock: 13889, event: 3749778, HTXS_Higgs_pt: 0, ...},\n",
      " {run: 1, luminosityBlock: 13889, event: 3749762, HTXS_Higgs_pt: 0, ...},\n",
      " {run: 1, luminosityBlock: 13889, event: 3749777, HTXS_Higgs_pt: 0, ...},\n",
      " {run: 1, luminosityBlock: 13889, event: 3749768, HTXS_Higgs_pt: 0, ...},\n",
      " {run: 1, luminosityBlock: 13889, event: 3749761, HTXS_Higgs_pt: 0, ...},\n",
      " {run: 1, luminosityBlock: 13889, event: 3749773, HTXS_Higgs_pt: 0, ...},\n",
      " {run: 1, luminosityBlock: 13889, event: 3749781, HTXS_Higgs_pt: 0, ...},\n",
      " {run: 1, luminosityBlock: 13889, event: 3749786, HTXS_Higgs_pt: 0, ...},\n",
      " {run: 1, luminosityBlock: 13889, event: 3749788, HTXS_Higgs_pt: 0, ...},\n",
      " {run: 1, luminosityBlock: 13889, event: 3749783, HTXS_Higgs_pt: 0, ...},\n",
      " ...,\n",
      " {run: 1, luminosityBlock: 13889, event: 3749862, HTXS_Higgs_pt: 0, ...},\n",
      " {run: 1, luminosityBlock: 13889, event: 3749866, HTXS_Higgs_pt: 0, ...},\n",
      " {run: 1, luminosityBlock: 13889, event: 3749861, HTXS_Higgs_pt: 0, ...},\n",
      " {run: 1, luminosityBlock: 13889, event: 3749863, HTXS_Higgs_pt: 0, ...},\n",
      " {run: 1, luminosityBlock: 13889, event: 3749875, HTXS_Higgs_pt: 0, ...},\n",
      " {run: 1, luminosityBlock: 13889, event: 3749865, HTXS_Higgs_pt: 0, ...},\n",
      " {run: 1, luminosityBlock: 13889, event: 3749883, HTXS_Higgs_pt: 0, ...},\n",
      " {run: 1, luminosityBlock: 13889, event: 3749882, HTXS_Higgs_pt: 0, ...},\n",
      " {run: 1, luminosityBlock: 13889, event: 3749892, HTXS_Higgs_pt: 0, ...}]\n"
     ]
    }
   ],
   "source": [
    "array.show()"
   ]
  },
  {
   "cell_type": "markdown",
   "metadata": {
    "id": "SmvO8A7aw0NE"
   },
   "source": [
    "The resulting data is a list of records. Each record represents a single event and all of its parameters data. For example here's some of the data for the first event in our file:"
   ]
  },
  {
   "cell_type": "code",
   "execution_count": 4,
   "metadata": {
    "colab": {
     "base_uri": "https://localhost:8080/"
    },
    "id": "Y0PeY_7uRXCj",
    "outputId": "a3a748a0-7b28-41ec-8fdf-7585c51cef01"
   },
   "outputs": [
    {
     "name": "stdout",
     "output_type": "stream",
     "text": [
      "{run: 1,\n",
      " luminosityBlock: 13889,\n",
      " event: 3749778,\n",
      " HTXS_Higgs_pt: 0,\n",
      " HTXS_Higgs_y: nan,\n",
      " HTXS_stage1_1_cat_pTjet25GeV: 0,\n",
      " HTXS_stage1_1_cat_pTjet30GeV: 0,\n",
      " HTXS_stage1_1_fine_cat_pTjet25GeV: 0,\n",
      " HTXS_stage1_1_fine_cat_pTjet30GeV: 0,\n",
      " HTXS_stage_0: 0,\n",
      " HTXS_stage_1_pTjet25: 0,\n",
      " HTXS_stage_1_pTjet30: 0,\n",
      " HTXS_njets25: 0,\n",
      " HTXS_njets30: 0,\n",
      " btagWeight_CSVV2: 0.951,\n",
      " btagWeight_DeepCSVB: 0.893,\n",
      " CaloMET_phi: 2.79,\n",
      " CaloMET_pt: 32.1,\n",
      " CaloMET_sumEt: 652,\n",
      " ChsMET_phi: 2.51,\n",
      " ChsMET_pt: 33.7,\n",
      " ChsMET_sumEt: 784,\n",
      " nCorrT1METJet: 5,\n",
      " CorrT1METJet_area: [0.579, 0.449, 0.509, 0.519, 0.638],\n",
      " CorrT1METJet_eta: [-2.36, 4.33, 2.27, 3.92, 2.62],\n",
      " CorrT1METJet_muonSubtrFactor: [3.59e-08, 1.08e-08, ..., 7.16e-09, -2.98e-08],\n",
      " CorrT1METJet_phi: [0.387, 2.03, 1.56, 2.39, -0.405],\n",
      " CorrT1METJet_rawPt: [12.9, 15.3, 10.2, 14.9, 9.41],\n",
      " nElectron: 0,\n",
      " Electron_deltaEtaSC: [],\n",
      " Electron_dr03EcalRecHitSumEt: [],\n",
      " Electron_dr03HcalDepth1TowerSumEt: [],\n",
      " Electron_dr03TkSumPt: [],\n",
      " Electron_dr03TkSumPtHEEP: [],\n",
      " Electron_dxy: [],\n",
      " Electron_dxyErr: [],\n",
      " Electron_dz: [],\n",
      " Electron_dzErr: [],\n",
      " Electron_eCorr: [],\n",
      " Electron_eInvMinusPInv: [],\n",
      " Electron_energyErr: [],\n",
      " Electron_eta: [],\n",
      " Electron_hoe: [],\n",
      " Electron_ip3d: [],\n",
      " Electron_jetPtRelv2: [],\n",
      " Electron_jetRelIso: [],\n",
      " Electron_mass: [],\n",
      " Electron_miniPFRelIso_all: [],\n",
      " Electron_miniPFRelIso_chg: [],\n",
      " ...}\n"
     ]
    }
   ],
   "source": [
    "array[0].show(50)"
   ]
  },
  {
   "cell_type": "markdown",
   "metadata": {
    "id": "Uyrh9ixRLg66"
   },
   "source": [
    "## Awkward-zipper example usage"
   ]
  },
  {
   "cell_type": "markdown",
   "metadata": {
    "id": "jJV_ht1jyYEv"
   },
   "source": [
    "The goal of the awkward-zipper package is to restructure the record of each event. These records are restructured in the same manner as in [Coffea package](https://coffea-hep.readthedocs.io/en/v2025.1.1/api/coffea.nanoevents.NanoAODSchema.html)."
   ]
  },
  {
   "cell_type": "code",
   "execution_count": 5,
   "metadata": {
    "colab": {
     "base_uri": "https://localhost:8080/"
    },
    "id": "4hOy8KZpvISY",
    "outputId": "287a6476-830f-4fb7-c9f7-e6d6f7981682"
   },
   "outputs": [
    {
     "name": "stderr",
     "output_type": "stream",
     "text": [
      "/tmp/ipykernel_347549/1056997857.py:4: RuntimeWarning: Missing cross-reference index for LowPtElectron_electronIdx => Electron\n",
      "  result = restructure(array)\n",
      "/tmp/ipykernel_347549/1056997857.py:4: RuntimeWarning: Missing cross-reference index for LowPtElectron_genPartIdx => GenPart\n",
      "  result = restructure(array)\n",
      "/tmp/ipykernel_347549/1056997857.py:4: RuntimeWarning: Missing cross-reference index for LowPtElectron_photonIdx => Photon\n",
      "  result = restructure(array)\n",
      "/tmp/ipykernel_347549/1056997857.py:4: RuntimeWarning: Missing cross-reference index for FatJet_genJetAK8Idx => GenJetAK8\n",
      "  result = restructure(array)\n"
     ]
    }
   ],
   "source": [
    "from awkward_zipper import NanoAOD\n",
    "\n",
    "restructure = NanoAOD(version=\"latest\")\n",
    "result = restructure(array)"
   ]
  },
  {
   "cell_type": "code",
   "execution_count": 6,
   "metadata": {
    "colab": {
     "base_uri": "https://localhost:8080/",
     "height": 434
    },
    "id": "4rNjmzXKymlR",
    "outputId": "66617c0a-e79c-41b2-cf17-f72e03cc8a8d"
   },
   "outputs": [
    {
     "data": {
      "text/html": [
       "<pre>[{Flag: {...}, SoftActivityJet: [{...}, ..., {...}], ...},\n",
       " {Flag: {...}, SoftActivityJet: [{...}, ..., {...}], ...},\n",
       " {Flag: {...}, SoftActivityJet: [{...}, ..., {...}], ...},\n",
       " {Flag: {...}, SoftActivityJet: [{...}, ..., {...}], ...},\n",
       " {Flag: {...}, SoftActivityJet: [{...}, ..., {...}], ...},\n",
       " {Flag: {...}, SoftActivityJet: [{...}, ..., {...}], ...},\n",
       " {Flag: {...}, SoftActivityJet: [{...}, ..., {...}], ...},\n",
       " {Flag: {...}, SoftActivityJet: [{...}, ..., {...}], ...},\n",
       " {Flag: {...}, SoftActivityJet: [{...}, ..., {...}], ...},\n",
       " {Flag: {...}, SoftActivityJet: [{...}, ..., {...}], ...},\n",
       " ...,\n",
       " {Flag: {...}, SoftActivityJet: [{...}, ..., {...}], ...},\n",
       " {Flag: {...}, SoftActivityJet: [{...}, ..., {...}], ...},\n",
       " {Flag: {...}, SoftActivityJet: [{...}, ..., {...}], ...},\n",
       " {Flag: {...}, SoftActivityJet: [{...}, {...}], ...},\n",
       " {Flag: {...}, SoftActivityJet: [{...}, ..., {...}], ...},\n",
       " {Flag: {...}, SoftActivityJet: [{...}, ..., {...}], ...},\n",
       " {Flag: {...}, SoftActivityJet: [{...}, ..., {...}], ...},\n",
       " {Flag: {...}, SoftActivityJet: [{...}, ..., {...}], ...},\n",
       " {Flag: {...}, SoftActivityJet: [{...}, ..., {...}], ...}]\n",
       "----------------------------------------------------------\n",
       "backend: cpu\n",
       "nbytes: 243.3 kB\n",
       "type: 40 * event</pre>"
      ],
      "text/plain": [
       "<NanoEventsArray [<NanoAOD event>, ..., <NanoAOD event>] type='40 * event'>"
      ]
     },
     "execution_count": 6,
     "metadata": {},
     "output_type": "execute_result"
    }
   ],
   "source": [
    "awkward.materialize(result)\n",
    "result"
   ]
  },
  {
   "cell_type": "markdown",
   "metadata": {
    "id": "-IRxumr3QL1_"
   },
   "source": [
    "Now let's go step by step how awkward-zipper reconstructs the original NanoAOD data."
   ]
  },
  {
   "cell_type": "markdown",
   "metadata": {
    "id": "mz8Go2gBQF_f"
   },
   "source": [
    "## How the new fields are added\n"
   ]
  },
  {
   "cell_type": "code",
   "execution_count": 7,
   "metadata": {
    "id": "6TnObziUSHmt"
   },
   "outputs": [],
   "source": [
    "from awkward_zipper.kernels import (\n",
    "    counts2offsets,\n",
    "    local2globalindex,\n",
    ")"
   ]
  },
  {
   "cell_type": "markdown",
   "metadata": {
    "id": "W4BINbAZC-Nw"
   },
   "source": [
    "For example we have a local index branches with names matching `{source}_{target}Idx*` are converted to global indexes for the event chunk (postfix `G`).\n",
    "(All local indices and their correlating global indices are taken from `NanoAOD.all_cross_references` dictionary)"
   ]
  },
  {
   "cell_type": "code",
   "execution_count": 8,
   "metadata": {
    "colab": {
     "base_uri": "https://localhost:8080/",
     "height": 434
    },
    "id": "CoYaamrXC-xQ",
    "outputId": "4e528034-7e60-4a2e-f2d6-4aa3bb0a8aec"
   },
   "outputs": [
    {
     "data": {
      "text/html": [
       "<pre>[[-1, -1, -1, -1, -1],\n",
       " [-1, 0, -1, -1, -1, -1, -1, -1],\n",
       " [-1, 1, 2, -1, -1],\n",
       " [-1, -1, 3],\n",
       " [-1, -1, -1, -1, -1],\n",
       " [5, -1, -1, -1, -1, -1, -1, -1],\n",
       " [6, -1, -1, -1],\n",
       " [-1, -1, -1, -1],\n",
       " [-1],\n",
       " [-1, 7, -1, -1, -1, -1, -1, -1, -1],\n",
       " ...,\n",
       " [21, -1],\n",
       " [-1, -1, -1, -1],\n",
       " [22, -1, -1, -1, -1, -1, -1, -1, -1],\n",
       " [-1, -1, -1],\n",
       " [23, -1],\n",
       " [-1, -1, -1],\n",
       " [24],\n",
       " [-1, -1, -1, -1, -1, -1],\n",
       " [-1, -1]]\n",
       "--------------------------------------\n",
       "backend: cpu\n",
       "nbytes: 1.8 kB\n",
       "type: 40 * [var * int64, parameters={&quot;__doc__&quot;: &quot;global index of first matching electron&quot;}]</pre>"
      ],
      "text/plain": [
       "<Array [[-1, -1, -1, -1, -1], ..., [-1, ...]] type='40 * [var * int64, para...'>"
      ]
     },
     "execution_count": 8,
     "metadata": {},
     "output_type": "execute_result"
    }
   ],
   "source": [
    "local_index = 'Jet_electronIdx1'\n",
    "\n",
    "# cross_referense = NanoAOD.all_cross_references[local_index]\n",
    "# global_index = \"n\" + cross_referense\n",
    "global_index = 'nElectron'\n",
    "\n",
    "array[\"Jet_electronIdx1G\"] = local2globalindex(array[local_index], array[global_index])\n",
    "array[\"Jet_electronIdx1G\"]"
   ]
  },
  {
   "cell_type": "markdown",
   "metadata": {
    "id": "HK5Z9q66txFK"
   },
   "source": [
    "How the functions like local2globalindex work is the main difference between awkward-zipper and coffea.\n",
    "\n",
    "awkward-zipper does its inner calculations on awkward arrays, while coffea does them using [forms and buffers](https://awkward-array.org/doc/main/reference/generated/ak.to_buffers.html)."
   ]
  },
  {
   "cell_type": "markdown",
   "metadata": {
    "id": "zxr6VzW-up2B"
   },
   "source": [
    "This change will make it easier for users to create their own ‘schemas’ (or modify existing ones)"
   ]
  },
  {
   "cell_type": "markdown",
   "metadata": {
    "id": "psCkJG0oeLi9"
   },
   "source": [
    "\n",
    "\n",
    "These fields are then grouped by name.\n",
    "\n",
    "Finally, all collections are then zipped into one NanoEvents record and returned.\n"
   ]
  },
  {
   "cell_type": "markdown",
   "metadata": {
    "id": "5Z037oGc2XdX"
   },
   "source": [
    "## These fields are then grouped by name, where if:"
   ]
  },
  {
   "cell_type": "markdown",
   "metadata": {
    "id": "KF2qrlxj2gCy"
   },
   "source": [
    "one branch exists named name and no branches start with name_, it gets interpreted as a single flat array;"
   ]
  },
  {
   "cell_type": "code",
   "execution_count": 9,
   "metadata": {
    "colab": {
     "base_uri": "https://localhost:8080/",
     "height": 434
    },
    "id": "-dHsEYPQ2sOy",
    "outputId": "02de0181-a5e5-4fe0-f9d3-a9f641d1c231"
   },
   "outputs": [
    {
     "data": {
      "text/html": [
       "<pre>[1,\n",
       " 1,\n",
       " 1,\n",
       " 1,\n",
       " 1,\n",
       " 1,\n",
       " 1,\n",
       " 1,\n",
       " 1,\n",
       " 1,\n",
       " ...,\n",
       " 1,\n",
       " 1,\n",
       " 1,\n",
       " 1,\n",
       " 1,\n",
       " 1,\n",
       " 1,\n",
       " 1,\n",
       " 1]\n",
       "-----\n",
       "backend: cpu\n",
       "nbytes: 160 B\n",
       "type: 40 * uint32[parameters={&quot;__doc__&quot;: &quot;run/i&quot;}]</pre>"
      ],
      "text/plain": [
       "<Array [1, 1, 1, 1, 1, 1, ..., 1, 1, 1, 1, 1] type='40 * uint32[parameters=...'>"
      ]
     },
     "execution_count": 9,
     "metadata": {},
     "output_type": "execute_result"
    }
   ],
   "source": [
    "# Example: Each event has only one Run Id. Interpreted flat array will look look like this:\n",
    "result.run"
   ]
  },
  {
   "cell_type": "markdown",
   "metadata": {
    "id": "odU4PCSQ2gIr"
   },
   "source": [
    "one branch exists named name, one named n{name}, and no branches start with name_, it gets interpreted as a single jagged array;"
   ]
  },
  {
   "cell_type": "code",
   "execution_count": 10,
   "metadata": {
    "colab": {
     "base_uri": "https://localhost:8080/",
     "height": 454
    },
    "id": "f8u-_6HGta1B",
    "outputId": "00422524-8a17-4e4e-f000-ebb140ffe8e8"
   },
   "outputs": [
    {
     "data": {
      "text/html": [
       "<pre>[[1.01, 1.26, 0.99, 0.791],\n",
       " [2.06, 0.872, 0.535, 0.962],\n",
       " [1.07, 0.887, 0.933, 1.02],\n",
       " [0.833, 0.827, 1.15, 1.1],\n",
       " [0.936, 0.622, 1.04, 1.17],\n",
       " [1.17, 1, 0.86, 0.978],\n",
       " [1.12, 1.59, 0.906, 0.688],\n",
       " [0.946, 0.922, 1.04, 0.997],\n",
       " [0.88, 0.855, 1.09, 0.811],\n",
       " [0.854, 0.518, 1.11, 1.16],\n",
       " ...,\n",
       " [0.906, 0.687, 1.07, 1.18],\n",
       " [0.917, 0.977, 1.07, 1.01],\n",
       " [0.858, 0.812, 1.11, 0.841],\n",
       " [0.884, 1, 1.09, 1],\n",
       " [0.919, 0.848, 1.07, 1.08],\n",
       " [0.953, 1.02, 1.04, 0.968],\n",
       " [0.946, 1, 1.04, 1],\n",
       " [1.08, 2.17, 0.932, 0.57],\n",
       " [0.856, 1.41, 1.12, 0.761]]\n",
       "-----------------------------\n",
       "backend: cpu\n",
       "nbytes: 968 B\n",
       "type: 40 * [var * float32, parameters={&quot;__doc__&quot;: &quot;PS weights (w_var / w_nominal); [0] is ISR=0.5 FSR=1; [1] is ISR=1 FSR=0.5; [2] is ISR=2 FSR=1; [3] is ISR=1 FSR=2 &quot;, &quot;__array__&quot;: &quot;NanoCollection&quot;, &quot;collection_name&quot;: &quot;PSWeight&quot;}]</pre>"
      ],
      "text/plain": [
       "<Array [[1.01, 1.26, 0.99, 0.791], ..., [...]] type='40 * [var * float32, p...'>"
      ]
     },
     "execution_count": 10,
     "metadata": {},
     "output_type": "execute_result"
    }
   ],
   "source": [
    "# Example: Each event has a flat array of PS Weights. Interpreted single jagged array will look look like this:\n",
    "result.PSWeight"
   ]
  },
  {
   "cell_type": "markdown",
   "metadata": {
    "id": "zFUxVZvr2z3A"
   },
   "source": [
    "no branch exists named {name} and many branches start with name_*, they get interpreted as a flat table; or"
   ]
  },
  {
   "cell_type": "code",
   "execution_count": 11,
   "metadata": {
    "colab": {
     "base_uri": "https://localhost:8080/",
     "height": 607
    },
    "id": "G1k1r41w2Zbv",
    "outputId": "2805bbe2-6766-4b43-9049-bb11b570bb4c"
   },
   "outputs": [
    {
     "data": {
      "text/html": [
       "<pre>[{x2: 0.0021, binvar: -1, weight: 2.63e+04, id2: -1, xpdf2: 0, x1: 0.214, ...},\n",
       " {x2: 0.00319, binvar: -1, weight: 2.63e+04, id2: 1, xpdf2: 0, x1: 0.0142, ...},\n",
       " {x2: 0.0629, binvar: -1, weight: 2.63e+04, id2: 21, xpdf2: 0, x1: ..., ...},\n",
       " {x2: 0.0874, binvar: -1, weight: 2.58e+04, id2: -1, xpdf2: 0, x1: ..., ...},\n",
       " {x2: 0.00505, binvar: -1, weight: 2.63e+04, id2: 1, xpdf2: 0, x1: 0.0432, ...},\n",
       " {x2: 0.0147, binvar: -1, weight: 2.63e+04, id2: -4, xpdf2: 0, x1: ..., ...},\n",
       " {x2: 0.3, binvar: -1, weight: -2.63e+04, id2: 2, xpdf2: 0, x1: 0.0051, ...},\n",
       " {x2: 0.716, binvar: -1, weight: 2.61e+04, id2: 2, xpdf2: 0, x1: 0.000154, ...},\n",
       " {x2: 0.000912, binvar: -1, weight: 2.63e+04, id2: -2, xpdf2: 0, x1: ..., ...},\n",
       " {x2: 0.0534, binvar: -1, weight: 2.63e+04, id2: -1, xpdf2: 0, x1: 0.011, ...},\n",
       " ...,\n",
       " {x2: 0.00676, binvar: -1, weight: 2.63e+04, id2: -1, xpdf2: 0, x1: ..., ...},\n",
       " {x2: 0.419, binvar: -1, weight: 2.63e+04, id2: 2, xpdf2: 0, x1: 0.000121, ...},\n",
       " {x2: 0.029, binvar: -1, weight: -2.63e+04, id2: 21, xpdf2: 0, x1: 0.229, ...},\n",
       " {x2: 0.00981, binvar: -1, weight: 2.63e+04, id2: -1, xpdf2: 0, x1: ..., ...},\n",
       " {x2: 0.00843, binvar: -1, weight: -2.63e+04, id2: -2, xpdf2: 0, x1: ..., ...},\n",
       " {x2: 0.119, binvar: -1, weight: 2.63e+04, id2: 2, xpdf2: 0, x1: 0.000411, ...},\n",
       " {x2: 0.127, binvar: -1, weight: -2.63e+04, id2: 1, xpdf2: 0, x1: 0.0004, ...},\n",
       " {x2: 0.000256, binvar: -1, weight: 2.63e+04, id2: -2, xpdf2: 0, x1: ..., ...},\n",
       " {x2: 0.0234, binvar: -1, weight: -2.63e+04, id2: -1, xpdf2: 0, x1: ..., ...}]\n",
       "--------------------------------------------------------------------------------\n",
       "backend: cpu\n",
       "nbytes: 1.4 kB\n",
       "type: 40 * NanoCollection[\n",
       "    x2: float32[parameters={&quot;__doc__&quot;: &quot;x2 fraction of proton momentum carried by the second parton&quot;}],\n",
       "    binvar: float32[parameters={&quot;__doc__&quot;: &quot;MC generation binning value&quot;}],\n",
       "    weight: float32[parameters={&quot;__doc__&quot;: &quot;MC generator weight&quot;}],\n",
       "    id2: int32[parameters={&quot;__doc__&quot;: &quot;id of second parton&quot;}],\n",
       "    xpdf2: float32[parameters={&quot;__doc__&quot;: &quot;x*pdf(x) for the second parton&quot;}],\n",
       "    x1: float32[parameters={&quot;__doc__&quot;: &quot;x1 fraction of proton momentum carried by the first parton&quot;}],\n",
       "    xpdf1: float32[parameters={&quot;__doc__&quot;: &quot;x*pdf(x) for the first parton&quot;}],\n",
       "    id1: int32[parameters={&quot;__doc__&quot;: &quot;id of first parton&quot;}],\n",
       "    scalePDF: float32[parameters={&quot;__doc__&quot;: &quot;Q2 scale for PDF&quot;}], \n",
       "parameters={&quot;collection_name&quot;: &quot;Generator&quot;}]</pre>"
      ],
      "text/plain": [
       "<NanoCollectionArray [{x2: 0.0021, binvar: -1, ...}, ...] type='40 * NanoCo...'>"
      ]
     },
     "execution_count": 11,
     "metadata": {},
     "output_type": "execute_result"
    }
   ],
   "source": [
    "#Example: Each event has a SINGLE Generator. Each Generator consists of a record of Generator parameters. These parameters can be scalars or flat arrays. Interpreted flat table will look look like this:\n",
    "result.Generator"
   ]
  },
  {
   "cell_type": "markdown",
   "metadata": {
    "id": "qjbnG49K23xS"
   },
   "source": [
    "one branch exists named n{name} and many branches start with name_*, they interpreted as a jagged table."
   ]
  },
  {
   "cell_type": "code",
   "execution_count": 12,
   "metadata": {
    "colab": {
     "base_uri": "https://localhost:8080/",
     "height": 642
    },
    "id": "ODRiS7N-24zS",
    "outputId": "5d160a64-3051-4f19-8472-7cb5cfc1e269"
   },
   "outputs": [
    {
     "data": {
      "text/html": [
       "<pre>[[Jet, ..., Jet],\n",
       " [Jet, ..., Jet],\n",
       " [Jet, ..., Jet],\n",
       " [Jet, ..., Jet],\n",
       " [Jet, ...],\n",
       " [Jet, ...],\n",
       " [Jet, ..., Jet],\n",
       " [Jet, ...],\n",
       " [{btagDeepFlavB: 0.0582, btagCMVA: -0.853, cleanmask: 1, puId: 7, ...}],\n",
       " [Jet, ..., Jet],\n",
       " ...,\n",
       " [Jet, ...],\n",
       " [Jet, ...],\n",
       " [Jet, ...],\n",
       " [Jet, ...],\n",
       " [Jet, ...],\n",
       " [Jet, ...],\n",
       " [{btagDeepFlavB: 0.0155, btagCMVA: -0.716, cleanmask: 0, puId: 7, ...}],\n",
       " [Jet, ...],\n",
       " [Jet, ...]]\n",
       "-------------------------------------------------------------------------\n",
       "backend: cpu\n",
       "nbytes: 43.4 kB\n",
       "type: 40 * var * Jet[\n",
       "    btagDeepFlavB: float32[parameters={&quot;__doc__&quot;: &quot;DeepFlavour b+bb+lepb tag discriminator&quot;}],\n",
       "    btagCMVA: float32[parameters={&quot;__doc__&quot;: &quot;CMVA V2 btag discriminator&quot;}],\n",
       "    cleanmask: uint8[parameters={&quot;__doc__&quot;: &quot;simple cleaning mask with priority to leptons&quot;}],\n",
       "    puId: int32[parameters={&quot;__doc__&quot;: &quot;Pilup ID flags&quot;}],\n",
       "    nConstituents: int32[parameters={&quot;__doc__&quot;: &quot;Number of particles in the jet&quot;}],\n",
       "    mass: float32[parameters={&quot;__doc__&quot;: &quot;mass&quot;}],\n",
       "    chHEF: float32[parameters={&quot;__doc__&quot;: &quot;charged Hadron Energy Fraction&quot;}],\n",
       "    btagDeepC: float32[parameters={&quot;__doc__&quot;: &quot;DeepCSV charm btag discriminator&quot;}],\n",
       "    jercCHPUF: float32[parameters={&quot;__doc__&quot;: &quot;Pileup Charged Hadron Energy Fraction with the JERC group definition&quot;}],\n",
       "    muonIdx1: int32[parameters={&quot;__doc__&quot;: &quot;index of first matching muon&quot;}],\n",
       "    ...\n",
       "parameters={&quot;collection_name&quot;: &quot;Jet&quot;, &quot;__doc__&quot;: &quot;slimmedJets, i.e. ak4 PFJets CHS with JECs applied, after basic selection (pt &gt; 15)&quot;}]</pre>"
      ],
      "text/plain": [
       "<JetArray [[Jet, ...], ...] type='40 * var * Jet[btagDeepFlavB: float32[par...'>"
      ]
     },
     "execution_count": 12,
     "metadata": {},
     "output_type": "execute_result"
    }
   ],
   "source": [
    "# Example: Each event has an array of Jets. Each Jet consists of a record of Jet parameters. These parameters can be scalars or flat arrays. Interpreted jagged table will look look like this:\n",
    "result.Jet"
   ]
  },
  {
   "cell_type": "markdown",
   "metadata": {
    "id": "WpXUsMBqvsf6"
   },
   "source": [
    "Finally, all collections are then zipped into one NanoEvents record and returned."
   ]
  },
  {
   "cell_type": "markdown",
   "metadata": {
    "id": "_8CPLNKbrwNm"
   },
   "source": [
    "Final result:"
   ]
  },
  {
   "cell_type": "code",
   "execution_count": 13,
   "metadata": {
    "colab": {
     "base_uri": "https://localhost:8080/",
     "height": 434
    },
    "id": "6ooWejwMrgxc",
    "outputId": "714b088b-ca82-4258-81b1-0deb7c3c90fe"
   },
   "outputs": [
    {
     "data": {
      "text/html": [
       "<pre>[{Flag: {...}, SoftActivityJet: [{...}, ..., {...}], ...},\n",
       " {Flag: {...}, SoftActivityJet: [{...}, ..., {...}], ...},\n",
       " {Flag: {...}, SoftActivityJet: [{...}, ..., {...}], ...},\n",
       " {Flag: {...}, SoftActivityJet: [{...}, ..., {...}], ...},\n",
       " {Flag: {...}, SoftActivityJet: [{...}, ..., {...}], ...},\n",
       " {Flag: {...}, SoftActivityJet: [{...}, ..., {...}], ...},\n",
       " {Flag: {...}, SoftActivityJet: [{...}, ..., {...}], ...},\n",
       " {Flag: {...}, SoftActivityJet: [{...}, ..., {...}], ...},\n",
       " {Flag: {...}, SoftActivityJet: [{...}, ..., {...}], ...},\n",
       " {Flag: {...}, SoftActivityJet: [{...}, ..., {...}], ...},\n",
       " ...,\n",
       " {Flag: {...}, SoftActivityJet: [{...}, ..., {...}], ...},\n",
       " {Flag: {...}, SoftActivityJet: [{...}, ..., {...}], ...},\n",
       " {Flag: {...}, SoftActivityJet: [{...}, ..., {...}], ...},\n",
       " {Flag: {...}, SoftActivityJet: [{...}, {...}], ...},\n",
       " {Flag: {...}, SoftActivityJet: [{...}, ..., {...}], ...},\n",
       " {Flag: {...}, SoftActivityJet: [{...}, ..., {...}], ...},\n",
       " {Flag: {...}, SoftActivityJet: [{...}, ..., {...}], ...},\n",
       " {Flag: {...}, SoftActivityJet: [{...}, ..., {...}], ...},\n",
       " {Flag: {...}, SoftActivityJet: [{...}, ..., {...}], ...}]\n",
       "----------------------------------------------------------\n",
       "backend: cpu\n",
       "nbytes: 243.3 kB\n",
       "type: 40 * event</pre>"
      ],
      "text/plain": [
       "<NanoEventsArray [<NanoAOD event>, ..., <NanoAOD event>] type='40 * event'>"
      ]
     },
     "execution_count": 13,
     "metadata": {},
     "output_type": "execute_result"
    }
   ],
   "source": [
    "result"
   ]
  },
  {
   "cell_type": "code",
   "execution_count": 14,
   "metadata": {
    "colab": {
     "base_uri": "https://localhost:8080/",
     "height": 434
    },
    "id": "u_NFN-lw4-Si",
    "outputId": "9b855b89-89dd-450b-900d-8c93ea6e5c88"
   },
   "outputs": [
    {
     "data": {
      "text/html": [
       "<pre>[[11.7, 8.94, 2.69, 3.81, 4.23],\n",
       " [17, 6.25, 6.07, 5, 3.89, 4, 4.31, 4.55],\n",
       " [12.4, 5.99, 2.78, 5.88, 4.64],\n",
       " [5.82, 6.14, 2.63],\n",
       " [12.5, 6.99, 4.14, 3.24, 3.68],\n",
       " [6.9, 7.5, 3.17, 6.78, 5.36, 4.16, 4.66, 4.62],\n",
       " [9.49, 0.111, 7.05, 4.96],\n",
       " [6.51, 4.98, 6.54, 5.12],\n",
       " [3.69],\n",
       " [4.89, 5.16, 7.83, 8.38, 6.3, 4.62, 4.41, 2.9, 3.54],\n",
       " ...,\n",
       " [2.28, 3.78],\n",
       " [4.92, 4.43, 4.37, 3.54],\n",
       " [7.45, 6.52, 7.59, 4.74, 4.27, 4.32, 5.01, 4, 4.23],\n",
       " [4.83, 5.8, 4.85],\n",
       " [3.62, 3.87],\n",
       " [6.04, 4.84, 4.29],\n",
       " [5.33],\n",
       " [10.8, 9.75, 6.52, 5.45, 3.94, 3.42],\n",
       " [3.88, 4.47]]\n",
       "------------------------------------------------------\n",
       "backend: cpu\n",
       "nbytes: 1.1 kB\n",
       "type: 40 * var * float32[parameters={&quot;__doc__&quot;: &quot;mass&quot;}]</pre>"
      ],
      "text/plain": [
       "<Array [[11.7, 8.94, ..., 3.81, 4.23], ...] type='40 * var * float32[parame...'>"
      ]
     },
     "execution_count": 14,
     "metadata": {},
     "output_type": "execute_result"
    }
   ],
   "source": [
    "result.Jet.mass"
   ]
  },
  {
   "cell_type": "markdown",
   "metadata": {
    "id": "l2Tw0AG7lWtF"
   },
   "source": [
    "## Zipper with virtual arrays"
   ]
  },
  {
   "cell_type": "markdown",
   "metadata": {
    "id": "rClhlEKCOeqI"
   },
   "source": [
    "Let's load the same root file but as virtual arrays. Virtual arrays don't load the data from disk (or in other words don't materialize the data)."
   ]
  },
  {
   "cell_type": "code",
   "execution_count": 15,
   "metadata": {
    "id": "C1rpDTw4MVuU"
   },
   "outputs": [],
   "source": [
    "# Create a TTree from root\n",
    "tree = uproot.open(\"data/nano_dy.root\")[\"Events\"]\n",
    "# to load virtual arrays\n",
    "access_log = [] # which of the data was materialized\n",
    "# TTree -> awkward.Array[awkward.Record[str, awkward.Array]]\n",
    "array = tree.arrays(ak_add_doc=True, access_log=access_log, virtual=True)"
   ]
  },
  {
   "cell_type": "markdown",
   "metadata": {
    "id": "gHAv_4-GmtRU"
   },
   "source": [
    "Calling zipper"
   ]
  },
  {
   "cell_type": "code",
   "execution_count": 16,
   "metadata": {
    "colab": {
     "base_uri": "https://localhost:8080/"
    },
    "id": "jsp649qomsJa",
    "outputId": "71e16751-bdff-4485-c413-04058b9a8643"
   },
   "outputs": [
    {
     "name": "stderr",
     "output_type": "stream",
     "text": [
      "/tmp/ipykernel_347549/3166504516.py:2: RuntimeWarning: Missing cross-reference index for LowPtElectron_electronIdx => Electron\n",
      "  result = restructure(array)\n",
      "/tmp/ipykernel_347549/3166504516.py:2: RuntimeWarning: Missing cross-reference index for LowPtElectron_genPartIdx => GenPart\n",
      "  result = restructure(array)\n",
      "/tmp/ipykernel_347549/3166504516.py:2: RuntimeWarning: Missing cross-reference index for LowPtElectron_photonIdx => Photon\n",
      "  result = restructure(array)\n",
      "/tmp/ipykernel_347549/3166504516.py:2: RuntimeWarning: Missing cross-reference index for FatJet_genJetAK8Idx => GenJetAK8\n",
      "  result = restructure(array)\n"
     ]
    }
   ],
   "source": [
    "restructure = NanoAOD(version=\"latest\")\n",
    "result = restructure(array)"
   ]
  },
  {
   "cell_type": "code",
   "execution_count": 17,
   "metadata": {
    "colab": {
     "base_uri": "https://localhost:8080/"
    },
    "id": "uvtQDez4md3g",
    "outputId": "38ae31e2-3930-4b6d-d745-fd2b2939d8c9"
   },
   "outputs": [
    {
     "data": {
      "text/plain": [
       "[]"
      ]
     },
     "execution_count": 17,
     "metadata": {},
     "output_type": "execute_result"
    }
   ],
   "source": [
    "access_log"
   ]
  },
  {
   "cell_type": "code",
   "execution_count": 18,
   "metadata": {
    "colab": {
     "base_uri": "https://localhost:8080/",
     "height": 434
    },
    "id": "bu-9pM__l_lZ",
    "outputId": "9db08085-6d17-4bd9-87b9-494f4f8a72a7"
   },
   "outputs": [
    {
     "data": {
      "text/html": [
       "<pre>[{Flag: {...}, SoftActivityJet: ??, fixedGridRhoFastjetAll: ??, ...},\n",
       " {Flag: {...}, SoftActivityJet: ??, fixedGridRhoFastjetAll: ??, ...},\n",
       " {Flag: {...}, SoftActivityJet: ??, fixedGridRhoFastjetAll: ??, ...},\n",
       " {Flag: {...}, SoftActivityJet: ??, fixedGridRhoFastjetAll: ??, ...},\n",
       " {Flag: {...}, SoftActivityJet: ??, fixedGridRhoFastjetAll: ??, ...},\n",
       " {Flag: {...}, SoftActivityJet: ??, fixedGridRhoFastjetAll: ??, ...},\n",
       " {Flag: {...}, SoftActivityJet: ??, fixedGridRhoFastjetAll: ??, ...},\n",
       " {Flag: {...}, SoftActivityJet: ??, fixedGridRhoFastjetAll: ??, ...},\n",
       " {Flag: {...}, SoftActivityJet: ??, fixedGridRhoFastjetAll: ??, ...},\n",
       " {Flag: {...}, SoftActivityJet: ??, fixedGridRhoFastjetAll: ??, ...},\n",
       " ...,\n",
       " {Flag: {...}, SoftActivityJet: ??, fixedGridRhoFastjetAll: ??, ...},\n",
       " {Flag: {...}, SoftActivityJet: ??, fixedGridRhoFastjetAll: ??, ...},\n",
       " {Flag: {...}, SoftActivityJet: ??, fixedGridRhoFastjetAll: ??, ...},\n",
       " {Flag: {...}, SoftActivityJet: ??, fixedGridRhoFastjetAll: ??, ...},\n",
       " {Flag: {...}, SoftActivityJet: ??, fixedGridRhoFastjetAll: ??, ...},\n",
       " {Flag: {...}, SoftActivityJet: ??, fixedGridRhoFastjetAll: ??, ...},\n",
       " {Flag: {...}, SoftActivityJet: ??, fixedGridRhoFastjetAll: ??, ...},\n",
       " {Flag: {...}, SoftActivityJet: ??, fixedGridRhoFastjetAll: ??, ...},\n",
       " {Flag: {...}, SoftActivityJet: ??, fixedGridRhoFastjetAll: ??, ...}]\n",
       "---------------------------------------------------------------------\n",
       "backend: cpu\n",
       "nbytes: unknown\n",
       "type: 40 * event</pre>"
      ],
      "text/plain": [
       "<NanoEventsArray [<NanoAOD event>, ..., <NanoAOD event>] type='40 * event'>"
      ]
     },
     "execution_count": 18,
     "metadata": {},
     "output_type": "execute_result"
    }
   ],
   "source": [
    "result"
   ]
  },
  {
   "cell_type": "code",
   "execution_count": 19,
   "metadata": {
    "colab": {
     "base_uri": "https://localhost:8080/",
     "height": 642
    },
    "id": "wIoqL9vqx_NG",
    "outputId": "231eb7f5-e287-4e7e-84a6-b196c30ddff1"
   },
   "outputs": [
    {
     "data": {
      "text/html": [
       "<pre>[??,\n",
       " ??,\n",
       " ??,\n",
       " ??,\n",
       " ??,\n",
       " ??,\n",
       " ??,\n",
       " ??,\n",
       " ??,\n",
       " ??,\n",
       " ...,\n",
       " ??,\n",
       " ??,\n",
       " ??,\n",
       " ??,\n",
       " ??,\n",
       " ??,\n",
       " ??,\n",
       " ??,\n",
       " ??]\n",
       "-----\n",
       "backend: cpu\n",
       "nbytes: unknown\n",
       "type: 40 * var * Jet[\n",
       "    btagDeepFlavB: float32[parameters={&quot;__doc__&quot;: &quot;DeepFlavour b+bb+lepb tag discriminator&quot;}],\n",
       "    btagCMVA: float32[parameters={&quot;__doc__&quot;: &quot;CMVA V2 btag discriminator&quot;}],\n",
       "    cleanmask: uint8[parameters={&quot;__doc__&quot;: &quot;simple cleaning mask with priority to leptons&quot;}],\n",
       "    puId: int32[parameters={&quot;__doc__&quot;: &quot;Pilup ID flags&quot;}],\n",
       "    nConstituents: int32[parameters={&quot;__doc__&quot;: &quot;Number of particles in the jet&quot;}],\n",
       "    mass: float32[parameters={&quot;__doc__&quot;: &quot;mass&quot;}],\n",
       "    chHEF: float32[parameters={&quot;__doc__&quot;: &quot;charged Hadron Energy Fraction&quot;}],\n",
       "    btagDeepC: float32[parameters={&quot;__doc__&quot;: &quot;DeepCSV charm btag discriminator&quot;}],\n",
       "    jercCHPUF: float32[parameters={&quot;__doc__&quot;: &quot;Pileup Charged Hadron Energy Fraction with the JERC group definition&quot;}],\n",
       "    muonIdx1: int32[parameters={&quot;__doc__&quot;: &quot;index of first matching muon&quot;}],\n",
       "    ...\n",
       "parameters={&quot;collection_name&quot;: &quot;Jet&quot;, &quot;__doc__&quot;: &quot;slimmedJets, i.e. ak4 PFJets CHS with JECs applied, after basic selection (pt &gt; 15)&quot;}]</pre>"
      ],
      "text/plain": [
       "<JetArray [??, ??, ??, ??, ..., ??, ??, ??, ??] type='40 * var * Jet[btagDe...'>"
      ]
     },
     "execution_count": 19,
     "metadata": {},
     "output_type": "execute_result"
    }
   ],
   "source": [
    "result.Jet"
   ]
  },
  {
   "cell_type": "code",
   "execution_count": 20,
   "metadata": {
    "colab": {
     "base_uri": "https://localhost:8080/"
    },
    "id": "yDcMOBodmwYq",
    "outputId": "b17f7832-33ef-4f6b-c079-47f5f240fcc5"
   },
   "outputs": [
    {
     "data": {
      "text/plain": [
       "[]"
      ]
     },
     "execution_count": 20,
     "metadata": {},
     "output_type": "execute_result"
    }
   ],
   "source": [
    "access_log"
   ]
  },
  {
   "cell_type": "markdown",
   "metadata": {
    "id": "keHwbaBGmm1K"
   },
   "source": [
    "## Example calculation of a Z-peak"
   ]
  },
  {
   "cell_type": "code",
   "execution_count": 21,
   "metadata": {
    "colab": {
     "base_uri": "https://localhost:8080/"
    },
    "id": "FyxG4y3ubP6o",
    "outputId": "f5472755-3bcc-417a-d59e-68671a39af19"
   },
   "outputs": [
    {
     "name": "stderr",
     "output_type": "stream",
     "text": [
      "/tmp/ipykernel_347549/3166504516.py:2: RuntimeWarning: Missing cross-reference index for LowPtElectron_electronIdx => Electron\n",
      "  result = restructure(array)\n",
      "/tmp/ipykernel_347549/3166504516.py:2: RuntimeWarning: Missing cross-reference index for LowPtElectron_genPartIdx => GenPart\n",
      "  result = restructure(array)\n",
      "/tmp/ipykernel_347549/3166504516.py:2: RuntimeWarning: Missing cross-reference index for LowPtElectron_photonIdx => Photon\n",
      "  result = restructure(array)\n",
      "/tmp/ipykernel_347549/3166504516.py:2: RuntimeWarning: Missing cross-reference index for FatJet_genJetAK8Idx => GenJetAK8\n",
      "  result = restructure(array)\n"
     ]
    }
   ],
   "source": [
    "restructure = NanoAOD(version=\"latest\")\n",
    "result = restructure(array)"
   ]
  },
  {
   "cell_type": "code",
   "execution_count": 22,
   "metadata": {
    "id": "wzFnbttVlkIr"
   },
   "outputs": [],
   "source": [
    "zcands = awkward.combinations(result.Muon, 2)"
   ]
  },
  {
   "cell_type": "code",
   "execution_count": 23,
   "metadata": {
    "colab": {
     "base_uri": "https://localhost:8080/"
    },
    "id": "tAuBFo1um6GS",
    "outputId": "305bef99-f916-48a6-8efb-7a4f14159100"
   },
   "outputs": [
    {
     "data": {
      "text/plain": [
       "[Accessed(branch='nMuon', buffer_key=\"('<root>', 'nMuon')-data\")]"
      ]
     },
     "execution_count": 23,
     "metadata": {},
     "output_type": "execute_result"
    }
   ],
   "source": [
    "access_log"
   ]
  },
  {
   "cell_type": "code",
   "execution_count": 24,
   "metadata": {
    "id": "129j6Ju5llf4"
   },
   "outputs": [
    {
     "data": {
      "text/html": [
       "<pre>[94.6,\n",
       " 87.6,\n",
       " 88,\n",
       " 90.4,\n",
       " 89.1,\n",
       " 31.6]\n",
       "------\n",
       "backend: cpu\n",
       "nbytes: 24 B\n",
       "type: 6 * float32</pre>"
      ],
      "text/plain": [
       "<Array [94.6, 87.6, 88, 90.4, 89.1, 31.6] type='6 * float32'>"
      ]
     },
     "execution_count": 24,
     "metadata": {},
     "output_type": "execute_result"
    }
   ],
   "source": [
    "# calculate invariant mass\n",
    "mass = awkward.flatten((zcands[\"0\"] + zcands[\"1\"]).mass)\n",
    "mass"
   ]
  },
  {
   "cell_type": "code",
   "execution_count": 25,
   "metadata": {},
   "outputs": [
    {
     "data": {
      "text/plain": [
       "[Accessed(branch='nMuon', buffer_key=\"('<root>', 'nMuon')-data\"),\n",
       " Accessed(branch='Muon_pt', buffer_key=\"('<root>', 'Muon_pt')-offsets\"),\n",
       " Accessed(branch='Muon_pt', buffer_key=\"('<root>', 'Muon_pt', None)-data\"),\n",
       " Accessed(branch='Muon_phi', buffer_key=\"('<root>', 'Muon_phi')-offsets\"),\n",
       " Accessed(branch='Muon_phi', buffer_key=\"('<root>', 'Muon_phi', None)-data\"),\n",
       " Accessed(branch='Muon_eta', buffer_key=\"('<root>', 'Muon_eta')-offsets\"),\n",
       " Accessed(branch='Muon_eta', buffer_key=\"('<root>', 'Muon_eta', None)-data\"),\n",
       " Accessed(branch='Muon_mass', buffer_key=\"('<root>', 'Muon_mass')-offsets\"),\n",
       " Accessed(branch='Muon_mass', buffer_key=\"('<root>', 'Muon_mass', None)-data\"),\n",
       " Accessed(branch='Muon_charge', buffer_key=\"('<root>', 'Muon_charge')-offsets\"),\n",
       " Accessed(branch='Muon_charge', buffer_key=\"('<root>', 'Muon_charge', None)-data\")]"
      ]
     },
     "execution_count": 25,
     "metadata": {},
     "output_type": "execute_result"
    }
   ],
   "source": [
    "access_log"
   ]
  },
  {
   "cell_type": "markdown",
   "metadata": {
    "id": "qZIRYSjLoh6f"
   },
   "source": [
    "We can see that for this, 4-vector coordinates were loaded, which were used to add the combinations"
   ]
  }
 ],
 "metadata": {
  "colab": {
   "provenance": []
  },
  "kernelspec": {
   "display_name": "Python 3 (ipykernel)",
   "language": "python",
   "name": "python3"
  },
  "language_info": {
   "codemirror_mode": {
    "name": "ipython",
    "version": 3
   },
   "file_extension": ".py",
   "mimetype": "text/x-python",
   "name": "python",
   "nbconvert_exporter": "python",
   "pygments_lexer": "ipython3",
   "version": "3.13.9"
  }
 },
 "nbformat": 4,
 "nbformat_minor": 4
}

{
 "cells": [
  {
   "cell_type": "code",
   "execution_count": null,
   "metadata": {
    "id": "-7K2A3Hm3S21"
   },
   "outputs": [],
   "source": [
    "import uproot\n",
    "import awkward"
   ]
  },
  {
   "cell_type": "markdown",
   "metadata": {
    "id": "1lhg9AWkKcP-"
   },
   "source": [
    "Let's load the example data in [NanoAOD](https://twiki.cern.ch/twiki/bin/view/CMSPublic/WorkBookNanoAOD) format:"
   ]
  },
  {
   "cell_type": "code",
   "execution_count": null,
   "metadata": {
    "id": "oK97AsG5vW8T"
   },
   "outputs": [],
   "source": [
    "# Create a TTree from root\n",
    "tree = uproot.open(\"data/nano_dy.root\")[\"Events\"]\n",
    "# TTree -> awkward.Array[awkward.Record[str, awkward.Array]]\n",
    "array = tree.arrays(ak_add_doc=True)"
   ]
  },
  {
   "cell_type": "code",
   "execution_count": null,
   "metadata": {
    "colab": {
     "base_uri": "https://localhost:8080/"
    },
    "id": "rS_ZuXVFx65l",
    "outputId": "73caa676-1970-4b05-cd00-b184186c9738"
   },
   "outputs": [],
   "source": [
    "array.show()"
   ]
  },
  {
   "cell_type": "markdown",
   "metadata": {
    "id": "SmvO8A7aw0NE"
   },
   "source": [
    "The resulting data is a list of records. Each record represents a single event and all of its parameters data. For example here's some of the data for the first event in our file:"
   ]
  },
  {
   "cell_type": "code",
   "execution_count": null,
   "metadata": {
    "colab": {
     "base_uri": "https://localhost:8080/"
    },
    "id": "Y0PeY_7uRXCj",
    "outputId": "a3a748a0-7b28-41ec-8fdf-7585c51cef01"
   },
   "outputs": [],
   "source": [
    "array[0].show(50)"
   ]
  },
  {
   "cell_type": "markdown",
   "metadata": {
    "id": "Uyrh9ixRLg66"
   },
   "source": [
    "## Awkward-zipper example usage"
   ]
  },
  {
   "cell_type": "markdown",
   "metadata": {
    "id": "jJV_ht1jyYEv"
   },
   "source": [
    "The goal of the awkward-zipper package is to restructure the record of each event. These records are restructured in the same manner as in [Coffea package](https://coffea-hep.readthedocs.io/en/v2025.1.1/api/coffea.nanoevents.NanoAODSchema.html)."
   ]
  },
  {
   "cell_type": "code",
   "execution_count": null,
   "metadata": {
    "colab": {
     "base_uri": "https://localhost:8080/"
    },
    "id": "4hOy8KZpvISY",
    "outputId": "287a6476-830f-4fb7-c9f7-e6d6f7981682"
   },
   "outputs": [],
   "source": [
    "from awkward_zipper import NanoAOD\n",
    "\n",
    "restructure = NanoAOD(version=\"latest\")\n",
    "result = restructure(array)"
   ]
  },
  {
   "cell_type": "code",
   "execution_count": null,
   "metadata": {
    "colab": {
     "base_uri": "https://localhost:8080/",
     "height": 434
    },
    "id": "4rNjmzXKymlR",
    "outputId": "66617c0a-e79c-41b2-cf17-f72e03cc8a8d"
   },
   "outputs": [],
   "source": [
    "awkward.materialize(result)\n",
    "result"
   ]
  },
  {
   "cell_type": "markdown",
   "metadata": {
    "id": "-IRxumr3QL1_"
   },
   "source": [
    "Now let's go step by step how awkward-zipper reconstructs the original NanoAOD data."
   ]
  },
  {
   "cell_type": "markdown",
   "metadata": {
    "id": "mz8Go2gBQF_f"
   },
   "source": [
    "## How the new fields are added\n"
   ]
  },
  {
   "cell_type": "code",
   "execution_count": null,
   "metadata": {
    "id": "6TnObziUSHmt"
   },
   "outputs": [],
   "source": [
    "from awkward_zipper.kernels import (\n",
    "    counts2offsets,\n",
    "    local2globalindex,\n",
    ")"
   ]
  },
  {
   "cell_type": "markdown",
   "metadata": {
    "id": "W4BINbAZC-Nw"
   },
   "source": [
    "For example we have a local index branches with names matching `{source}_{target}Idx*` are converted to global indexes for the event chunk (postfix `G`).\n",
    "(All local indices and their correlating global indices are taken from `NanoAOD.all_cross_references` dictionary)"
   ]
  },
  {
   "cell_type": "code",
   "execution_count": null,
   "metadata": {
    "colab": {
     "base_uri": "https://localhost:8080/",
     "height": 434
    },
    "id": "CoYaamrXC-xQ",
    "outputId": "4e528034-7e60-4a2e-f2d6-4aa3bb0a8aec"
   },
   "outputs": [],
   "source": [
    "local_index = 'Jet_electronIdx1'\n",
    "\n",
    "# cross_referense = NanoAOD.all_cross_references[local_index]\n",
    "# global_index = \"n\" + cross_referense\n",
    "global_index = 'nElectron'\n",
    "\n",
    "array[\"Jet_electronIdx1G\"] = local2globalindex(array[local_index], array[global_index])\n",
    "array[\"Jet_electronIdx1G\"]"
   ]
  },
  {
   "cell_type": "markdown",
   "metadata": {
    "id": "HK5Z9q66txFK"
   },
   "source": [
    "How the functions like local2globalindex work is the main difference between awkward-zipper and coffea.\n",
    "\n",
    "awkward-zipper does its inner calculations on awkward arrays, while coffea does them using [forms and buffers](https://awkward-array.org/doc/main/reference/generated/ak.to_buffers.html)."
   ]
  },
  {
   "cell_type": "markdown",
   "metadata": {
    "id": "zxr6VzW-up2B"
   },
   "source": [
    "This change will make it easier for users to create their own ‘schemas’ (or modify existing ones)"
   ]
  },
  {
   "cell_type": "markdown",
   "metadata": {
    "id": "psCkJG0oeLi9"
   },
   "source": [
    "\n",
    "\n",
    "These fields are then grouped by name.\n",
    "\n",
    "Finally, all collections are then zipped into one NanoEvents record and returned.\n"
   ]
  },
  {
   "cell_type": "markdown",
   "metadata": {
    "id": "5Z037oGc2XdX"
   },
   "source": [
    "## These fields are then grouped by name, where if:"
   ]
  },
  {
   "cell_type": "markdown",
   "metadata": {
    "id": "KF2qrlxj2gCy"
   },
   "source": [
    "one branch exists named name and no branches start with name_, it gets interpreted as a single flat array;"
   ]
  },
  {
   "cell_type": "code",
   "execution_count": null,
   "metadata": {
    "colab": {
     "base_uri": "https://localhost:8080/",
     "height": 434
    },
    "id": "-dHsEYPQ2sOy",
    "outputId": "02de0181-a5e5-4fe0-f9d3-a9f641d1c231"
   },
   "outputs": [],
   "source": [
    "# Example: Each event has only one Run Id. Interpreted flat array will look look like this:\n",
    "result.run"
   ]
  },
  {
   "cell_type": "markdown",
   "metadata": {
    "id": "odU4PCSQ2gIr"
   },
   "source": [
    "one branch exists named name, one named n{name}, and no branches start with name_, it gets interpreted as a single jagged array;"
   ]
  },
  {
   "cell_type": "code",
   "execution_count": null,
   "metadata": {
    "colab": {
     "base_uri": "https://localhost:8080/",
     "height": 454
    },
    "id": "f8u-_6HGta1B",
    "outputId": "00422524-8a17-4e4e-f000-ebb140ffe8e8"
   },
   "outputs": [],
   "source": [
    "# Example: Each event has a flat array of PS Weights. Interpreted single jagged array will look look like this:\n",
    "result.PSWeight"
   ]
  },
  {
   "cell_type": "markdown",
   "metadata": {
    "id": "zFUxVZvr2z3A"
   },
   "source": [
    "no branch exists named {name} and many branches start with name_*, they get interpreted as a flat table; or"
   ]
  },
  {
   "cell_type": "code",
   "execution_count": null,
   "metadata": {
    "colab": {
     "base_uri": "https://localhost:8080/",
     "height": 607
    },
    "id": "G1k1r41w2Zbv",
    "outputId": "2805bbe2-6766-4b43-9049-bb11b570bb4c"
   },
   "outputs": [],
   "source": [
    "#Example: Each event has a SINGLE Generator. Each Generator consists of a record of Generator parameters. These parameters can be scalars or flat arrays. Interpreted flat table will look look like this:\n",
    "result.Generator"
   ]
  },
  {
   "cell_type": "markdown",
   "metadata": {
    "id": "qjbnG49K23xS"
   },
   "source": [
    "one branch exists named n{name} and many branches start with name_*, they interpreted as a jagged table."
   ]
  },
  {
   "cell_type": "code",
   "execution_count": null,
   "metadata": {
    "colab": {
     "base_uri": "https://localhost:8080/",
     "height": 642
    },
    "id": "ODRiS7N-24zS",
    "outputId": "5d160a64-3051-4f19-8472-7cb5cfc1e269"
   },
   "outputs": [],
   "source": [
    "# Example: Each event has an array of Jets. Each Jet consists of a record of Jet parameters. These parameters can be scalars or flat arrays. Interpreted jagged table will look look like this:\n",
    "result.Jet"
   ]
  },
  {
   "cell_type": "markdown",
   "metadata": {
    "id": "WpXUsMBqvsf6"
   },
   "source": [
    "Finally, all collections are then zipped into one NanoEvents record and returned."
   ]
  },
  {
   "cell_type": "markdown",
   "metadata": {
    "id": "_8CPLNKbrwNm"
   },
   "source": [
    "Final result:"
   ]
  },
  {
   "cell_type": "code",
   "execution_count": null,
   "metadata": {
    "colab": {
     "base_uri": "https://localhost:8080/",
     "height": 434
    },
    "id": "6ooWejwMrgxc",
    "outputId": "714b088b-ca82-4258-81b1-0deb7c3c90fe"
   },
   "outputs": [],
   "source": [
    "result"
   ]
  },
  {
   "cell_type": "code",
   "execution_count": null,
   "metadata": {
    "colab": {
     "base_uri": "https://localhost:8080/",
     "height": 434
    },
    "id": "u_NFN-lw4-Si",
    "outputId": "9b855b89-89dd-450b-900d-8c93ea6e5c88"
   },
   "outputs": [],
   "source": [
    "result.Jet.mass"
   ]
  },
  {
   "cell_type": "markdown",
   "metadata": {
    "id": "l2Tw0AG7lWtF"
   },
   "source": [
    "## Zipper with virtual arrays"
   ]
  },
  {
   "cell_type": "markdown",
   "metadata": {
    "id": "rClhlEKCOeqI"
   },
   "source": [
    "Let's load the same root file but as virtual arrays. Virtual arrays don't load the data from disk (or in other words don't materialize the data)."
   ]
  },
  {
   "cell_type": "code",
   "execution_count": null,
   "metadata": {
    "id": "C1rpDTw4MVuU"
   },
   "outputs": [],
   "source": [
    "# Create a TTree from root\n",
    "tree = uproot.open(\"data/nano_dy.root\")[\"Events\"]\n",
    "# to load virtual arrays\n",
    "access_log = [] # which of the data was materialized\n",
    "# TTree -> awkward.Array[awkward.Record[str, awkward.Array]]\n",
    "array = tree.arrays(ak_add_doc=True, access_log=access_log, virtual=True)"
   ]
  },
  {
   "cell_type": "markdown",
   "metadata": {
    "id": "gHAv_4-GmtRU"
   },
   "source": [
    "Calling zipper"
   ]
  },
  {
   "cell_type": "code",
   "execution_count": null,
   "metadata": {
    "colab": {
     "base_uri": "https://localhost:8080/"
    },
    "id": "jsp649qomsJa",
    "outputId": "71e16751-bdff-4485-c413-04058b9a8643"
   },
   "outputs": [],
   "source": [
    "restructure = NanoAOD(version=\"latest\")\n",
    "result = restructure(array)"
   ]
  },
  {
   "cell_type": "code",
   "execution_count": null,
   "metadata": {
    "colab": {
     "base_uri": "https://localhost:8080/"
    },
    "id": "uvtQDez4md3g",
    "outputId": "38ae31e2-3930-4b6d-d745-fd2b2939d8c9"
   },
   "outputs": [],
   "source": [
    "access_log"
   ]
  },
  {
   "cell_type": "code",
   "execution_count": null,
   "metadata": {
    "colab": {
     "base_uri": "https://localhost:8080/",
     "height": 434
    },
    "id": "bu-9pM__l_lZ",
    "outputId": "9db08085-6d17-4bd9-87b9-494f4f8a72a7"
   },
   "outputs": [],
   "source": [
    "result"
   ]
  },
  {
   "cell_type": "code",
   "execution_count": null,
   "metadata": {
    "colab": {
     "base_uri": "https://localhost:8080/",
     "height": 642
    },
    "id": "wIoqL9vqx_NG",
    "outputId": "231eb7f5-e287-4e7e-84a6-b196c30ddff1"
   },
   "outputs": [],
   "source": [
    "result.Jet"
   ]
  },
  {
   "cell_type": "code",
   "execution_count": null,
   "metadata": {
    "colab": {
     "base_uri": "https://localhost:8080/"
    },
    "id": "yDcMOBodmwYq",
    "outputId": "b17f7832-33ef-4f6b-c079-47f5f240fcc5"
   },
   "outputs": [],
   "source": [
    "access_log"
   ]
  },
  {
   "cell_type": "markdown",
   "metadata": {
    "id": "keHwbaBGmm1K"
   },
   "source": [
    "## Example calculation of a Z-peak"
   ]
  },
  {
   "cell_type": "code",
   "execution_count": null,
   "metadata": {
    "colab": {
     "base_uri": "https://localhost:8080/"
    },
    "id": "FyxG4y3ubP6o",
    "outputId": "f5472755-3bcc-417a-d59e-68671a39af19"
   },
   "outputs": [],
   "source": [
    "restructure = NanoAOD(version=\"latest\")\n",
    "result = restructure(array)"
   ]
  },
  {
   "cell_type": "code",
   "execution_count": null,
   "metadata": {
    "id": "wzFnbttVlkIr"
   },
   "outputs": [],
   "source": [
    "zcands = awkward.combinations(result.Muon, 2)"
   ]
  },
  {
   "cell_type": "code",
   "execution_count": null,
   "metadata": {
    "colab": {
     "base_uri": "https://localhost:8080/"
    },
    "id": "tAuBFo1um6GS",
    "outputId": "305bef99-f916-48a6-8efb-7a4f14159100"
   },
   "outputs": [],
   "source": [
    "access_log"
   ]
  },
  {
   "cell_type": "code",
   "execution_count": null,
   "metadata": {
    "id": "129j6Ju5llf4"
   },
   "outputs": [],
   "source": [
    "# calculate invariant mass\n",
    "mass = awkward.flatten((zcands[\"0\"] + zcands[\"1\"]).mass)\n",
    "mass"
   ]
  },
  {
   "cell_type": "code",
   "execution_count": null,
   "metadata": {},
   "outputs": [],
   "source": [
    "access_log"
   ]
  },
  {
   "cell_type": "markdown",
   "metadata": {
    "id": "qZIRYSjLoh6f"
   },
   "source": [
    "We can see that for this, 4-vector coordinates were loaded, which were used to add the combinations"
   ]
  }
 ],
 "metadata": {
  "colab": {
   "provenance": []
  },
  "kernelspec": {
   "display_name": "Python 3 (ipykernel)",
   "language": "python",
   "name": "python3"
  },
  "language_info": {
   "codemirror_mode": {
    "name": "ipython",
    "version": 3
   },
   "file_extension": ".py",
   "mimetype": "text/x-python",
   "name": "python",
   "nbconvert_exporter": "python",
   "pygments_lexer": "ipython3",
   "version": "3.13.9"
  }
 },
 "nbformat": 4,
 "nbformat_minor": 4
}
